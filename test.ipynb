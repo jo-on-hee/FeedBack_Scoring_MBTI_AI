{
 "cells": [
  {
   "cell_type": "code",
   "execution_count": null,
   "id": "c7cf9ec7",
   "metadata": {
    "vscode": {
     "languageId": "plaintext"
    }
   },
   "outputs": [],
   "source": [
    "from dotenv import load_dotenv\n",
    "\n",
    "print(load_dotenv())\n"
   ]
  }
 ],
 "metadata": {
  "language_info": {
   "name": "python"
  }
 },
 "nbformat": 4,
 "nbformat_minor": 5
}
